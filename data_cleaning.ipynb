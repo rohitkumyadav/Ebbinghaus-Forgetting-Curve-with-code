{
 "cells": [
  {
   "cell_type": "code",
   "execution_count": 3,
   "id": "ef952806-4309-4fe5-a692-bfcea7b1fc0e",
   "metadata": {},
   "outputs": [],
   "source": [
    "import pandas as pd"
   ]
  },
  {
   "cell_type": "code",
   "execution_count": 4,
   "id": "b2ec0600-2311-4427-a76d-165ce3147fa4",
   "metadata": {},
   "outputs": [],
   "source": [
    "df = pd.read_csv(\"forgetting_curve.csv\")"
   ]
  },
  {
   "cell_type": "code",
   "execution_count": 5,
   "id": "af214cfb-563b-4b36-8c16-f1da5e06541d",
   "metadata": {},
   "outputs": [
    {
     "data": {
      "text/html": [
       "<div>\n",
       "<style scoped>\n",
       "    .dataframe tbody tr th:only-of-type {\n",
       "        vertical-align: middle;\n",
       "    }\n",
       "\n",
       "    .dataframe tbody tr th {\n",
       "        vertical-align: top;\n",
       "    }\n",
       "\n",
       "    .dataframe thead th {\n",
       "        text-align: right;\n",
       "    }\n",
       "</style>\n",
       "<table border=\"1\" class=\"dataframe\">\n",
       "  <thead>\n",
       "    <tr style=\"text-align: right;\">\n",
       "      <th></th>\n",
       "      <th>Time (days)</th>\n",
       "      <th>Strength of Memory</th>\n",
       "      <th>Learning Method</th>\n",
       "      <th>Material Complexity</th>\n",
       "      <th>Information Relevance</th>\n",
       "      <th>Presentation Type</th>\n",
       "      <th>Sleep Quality</th>\n",
       "      <th>Stress Level</th>\n",
       "      <th>Memory Retention (%)</th>\n",
       "    </tr>\n",
       "  </thead>\n",
       "  <tbody>\n",
       "    <tr>\n",
       "      <th>0</th>\n",
       "      <td>2.684327</td>\n",
       "      <td>2.181384</td>\n",
       "      <td>Watching</td>\n",
       "      <td>Medium</td>\n",
       "      <td>Medium</td>\n",
       "      <td>Visual</td>\n",
       "      <td>Poor</td>\n",
       "      <td>High</td>\n",
       "      <td>27.858304</td>\n",
       "    </tr>\n",
       "    <tr>\n",
       "      <th>1</th>\n",
       "      <td>6.659929</td>\n",
       "      <td>1.998104</td>\n",
       "      <td>Watching</td>\n",
       "      <td>Medium</td>\n",
       "      <td>Medium</td>\n",
       "      <td>Textual</td>\n",
       "      <td>Poor</td>\n",
       "      <td>High</td>\n",
       "      <td>0.000000</td>\n",
       "    </tr>\n",
       "    <tr>\n",
       "      <th>2</th>\n",
       "      <td>5.150758</td>\n",
       "      <td>1.292693</td>\n",
       "      <td>Doing</td>\n",
       "      <td>Low</td>\n",
       "      <td>Low</td>\n",
       "      <td>Visual</td>\n",
       "      <td>Good</td>\n",
       "      <td>High</td>\n",
       "      <td>1.857434</td>\n",
       "    </tr>\n",
       "    <tr>\n",
       "      <th>3</th>\n",
       "      <td>4.230744</td>\n",
       "      <td>3.232700</td>\n",
       "      <td>Listening</td>\n",
       "      <td>High</td>\n",
       "      <td>High</td>\n",
       "      <td>Textual</td>\n",
       "      <td>Poor</td>\n",
       "      <td>Low</td>\n",
       "      <td>27.431739</td>\n",
       "    </tr>\n",
       "    <tr>\n",
       "      <th>4</th>\n",
       "      <td>1.176529</td>\n",
       "      <td>2.644809</td>\n",
       "      <td>Listening</td>\n",
       "      <td>High</td>\n",
       "      <td>Low</td>\n",
       "      <td>Auditory</td>\n",
       "      <td>Average</td>\n",
       "      <td>Moderate</td>\n",
       "      <td>63.434669</td>\n",
       "    </tr>\n",
       "  </tbody>\n",
       "</table>\n",
       "</div>"
      ],
      "text/plain": [
       "   Time (days)  Strength of Memory Learning Method Material Complexity  \\\n",
       "0     2.684327            2.181384        Watching              Medium   \n",
       "1     6.659929            1.998104        Watching              Medium   \n",
       "2     5.150758            1.292693           Doing                 Low   \n",
       "3     4.230744            3.232700       Listening                High   \n",
       "4     1.176529            2.644809       Listening                High   \n",
       "\n",
       "  Information Relevance Presentation Type Sleep Quality Stress Level  \\\n",
       "0                Medium            Visual          Poor         High   \n",
       "1                Medium           Textual          Poor         High   \n",
       "2                   Low            Visual          Good         High   \n",
       "3                  High           Textual          Poor          Low   \n",
       "4                   Low          Auditory       Average     Moderate   \n",
       "\n",
       "   Memory Retention (%)  \n",
       "0             27.858304  \n",
       "1              0.000000  \n",
       "2              1.857434  \n",
       "3             27.431739  \n",
       "4             63.434669  "
      ]
     },
     "execution_count": 5,
     "metadata": {},
     "output_type": "execute_result"
    }
   ],
   "source": [
    "df.head()"
   ]
  },
  {
   "cell_type": "code",
   "execution_count": 6,
   "id": "4f834305-d91b-41f7-9c41-3113af48886b",
   "metadata": {},
   "outputs": [],
   "source": [
    "import numpy as np\n",
    "\n",
    "# Define the allowed single learning methods\n",
    "single_methods = ['Watching', 'Listening', 'Doing']\n",
    "\n",
    "# Replace any multi-label (with '+') with a random single method\n",
    "df['Learning Method'] = df['Learning Method'].apply(\n",
    "    lambda x: np.random.choice(single_methods) if '+' in x else x\n",
    ")\n"
   ]
  },
  {
   "cell_type": "code",
   "execution_count": 8,
   "id": "1a0586f4-5565-4e48-a244-24c924c661c0",
   "metadata": {},
   "outputs": [
    {
     "data": {
      "text/plain": [
       "array(['Watching', 'Doing', 'Listening'], dtype=object)"
      ]
     },
     "execution_count": 8,
     "metadata": {},
     "output_type": "execute_result"
    }
   ],
   "source": [
    "df['Learning Method'].unique()\n"
   ]
  },
  {
   "cell_type": "code",
   "execution_count": null,
   "id": "24d96ff4-50a3-4476-b79c-ed478018181a",
   "metadata": {},
   "outputs": [],
   "source": [
    "pd."
   ]
  }
 ],
 "metadata": {
  "kernelspec": {
   "display_name": "Python 3 (ipykernel)",
   "language": "python",
   "name": "python3"
  },
  "language_info": {
   "codemirror_mode": {
    "name": "ipython",
    "version": 3
   },
   "file_extension": ".py",
   "mimetype": "text/x-python",
   "name": "python",
   "nbconvert_exporter": "python",
   "pygments_lexer": "ipython3",
   "version": "3.12.7"
  }
 },
 "nbformat": 4,
 "nbformat_minor": 5
}
